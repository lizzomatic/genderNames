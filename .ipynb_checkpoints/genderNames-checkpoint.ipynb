{
 "cells": [
  {
   "cell_type": "markdown",
   "id": "dbb6ac7d-f0e3-455f-b2c5-946f8ce98db8",
   "metadata": {},
   "source": [
    "# Names Database"
   ]
  },
  {
   "cell_type": "markdown",
   "id": "8d36e6e5-0ef1-4b3e-8108-8ae1c4b95c23",
   "metadata": {},
   "source": [
    "#### connect to pcc server"
   ]
  },
  {
   "cell_type": "code",
   "execution_count": 54,
   "id": "a671fce4-129b-473c-a483-d625c728e6a5",
   "metadata": {},
   "outputs": [
    {
     "data": {
      "text/plain": [
       "<pyodbc.Connection at 0x7f3e48d48e30>"
      ]
     },
     "execution_count": 54,
     "metadata": {},
     "output_type": "execute_result"
    }
   ],
   "source": [
    "connection = pyodbc.connect(\n",
    "    server='cisdbss.pcc.edu',\n",
    "    database='NAMES',\n",
    "    user='275student',\n",
    "    password='275student',\n",
    "    driver='{ODBC Driver 17 for SQL Server}'\n",
    ")\n",
    "\n",
    "connection"
   ]
  },
  {
   "cell_type": "markdown",
   "id": "ee512693-e053-440e-a7fe-b48c611eb604",
   "metadata": {},
   "source": [
    "#### SQL querry function"
   ]
  },
  {
   "cell_type": "code",
   "execution_count": 55,
   "id": "5ecd0ab1-5206-4641-967a-6d1ff7edf3ea",
   "metadata": {},
   "outputs": [
    {
     "data": {
      "text/html": [
       "<div>\n",
       "<style scoped>\n",
       "    .dataframe tbody tr th:only-of-type {\n",
       "        vertical-align: middle;\n",
       "    }\n",
       "\n",
       "    .dataframe tbody tr th {\n",
       "        vertical-align: top;\n",
       "    }\n",
       "\n",
       "    .dataframe thead th {\n",
       "        text-align: right;\n",
       "    }\n",
       "</style>\n",
       "<table border=\"1\" class=\"dataframe\">\n",
       "  <thead>\n",
       "    <tr style=\"text-align: right;\">\n",
       "      <th></th>\n",
       "      <th>Name</th>\n",
       "      <th>Gender</th>\n",
       "      <th>Year</th>\n",
       "      <th>NameCount</th>\n",
       "    </tr>\n",
       "  </thead>\n",
       "  <tbody>\n",
       "    <tr>\n",
       "      <th>0</th>\n",
       "      <td>Tracy</td>\n",
       "      <td>F</td>\n",
       "      <td>1915.0</td>\n",
       "      <td>18.0</td>\n",
       "    </tr>\n",
       "    <tr>\n",
       "      <th>1</th>\n",
       "      <td>Tracy</td>\n",
       "      <td>M</td>\n",
       "      <td>1915.0</td>\n",
       "      <td>49.0</td>\n",
       "    </tr>\n",
       "    <tr>\n",
       "      <th>2</th>\n",
       "      <td>Tracy</td>\n",
       "      <td>F</td>\n",
       "      <td>1916.0</td>\n",
       "      <td>26.0</td>\n",
       "    </tr>\n",
       "    <tr>\n",
       "      <th>3</th>\n",
       "      <td>Tracy</td>\n",
       "      <td>M</td>\n",
       "      <td>1916.0</td>\n",
       "      <td>72.0</td>\n",
       "    </tr>\n",
       "    <tr>\n",
       "      <th>4</th>\n",
       "      <td>Tracy</td>\n",
       "      <td>F</td>\n",
       "      <td>1917.0</td>\n",
       "      <td>28.0</td>\n",
       "    </tr>\n",
       "  </tbody>\n",
       "</table>\n",
       "</div>"
      ],
      "text/plain": [
       "    Name Gender    Year  NameCount\n",
       "0  Tracy      F  1915.0       18.0\n",
       "1  Tracy      M  1915.0       49.0\n",
       "2  Tracy      F  1916.0       26.0\n",
       "3  Tracy      M  1916.0       72.0\n",
       "4  Tracy      F  1917.0       28.0"
      ]
     },
     "execution_count": 55,
     "metadata": {},
     "output_type": "execute_result"
    }
   ],
   "source": [
    "def nameQuery(name):\n",
    "     df = pd.read_sql(\"\"\"\n",
    "     SELECT Name, Gender, Year, NameCount\n",
    "     FROM all_data\n",
    "     WHERE Name = ?\n",
    "     AND (Gender = 'M' OR\n",
    "     Gender = 'F')\n",
    "     ORDER BY Year\n",
    "     \"\"\", connection, params=(name,))\n",
    "     return df\n",
    "    \n",
    "name1 = nameQuery('Tracy')\n",
    "name1.head()"
   ]
  },
  {
   "cell_type": "markdown",
   "id": "719216f0-6c6c-4fe9-88df-14c8edfb8fcb",
   "metadata": {},
   "source": [
    "#### List the names with least difference between genders"
   ]
  },
  {
   "cell_type": "code",
   "execution_count": 56,
   "id": "6447dd8b-56b7-4412-9e37-69140f5886d0",
   "metadata": {},
   "outputs": [
    {
     "data": {
      "text/html": [
       "<div>\n",
       "<style scoped>\n",
       "    .dataframe tbody tr th:only-of-type {\n",
       "        vertical-align: middle;\n",
       "    }\n",
       "\n",
       "    .dataframe tbody tr th {\n",
       "        vertical-align: top;\n",
       "    }\n",
       "\n",
       "    .dataframe thead th {\n",
       "        text-align: right;\n",
       "    }\n",
       "</style>\n",
       "<table border=\"1\" class=\"dataframe\">\n",
       "  <thead>\n",
       "    <tr style=\"text-align: right;\">\n",
       "      <th></th>\n",
       "      <th>Name</th>\n",
       "      <th>Year</th>\n",
       "      <th>Male</th>\n",
       "      <th>Female</th>\n",
       "      <th>DIFF</th>\n",
       "    </tr>\n",
       "  </thead>\n",
       "  <tbody>\n",
       "    <tr>\n",
       "      <th>0</th>\n",
       "      <td>Justice</td>\n",
       "      <td>2003.0</td>\n",
       "      <td>665.0</td>\n",
       "      <td>665.0</td>\n",
       "      <td>0.0</td>\n",
       "    </tr>\n",
       "    <tr>\n",
       "      <th>1</th>\n",
       "      <td>Jaylin</td>\n",
       "      <td>2008.0</td>\n",
       "      <td>524.0</td>\n",
       "      <td>524.0</td>\n",
       "      <td>0.0</td>\n",
       "    </tr>\n",
       "    <tr>\n",
       "      <th>2</th>\n",
       "      <td>Baby</td>\n",
       "      <td>2003.0</td>\n",
       "      <td>245.0</td>\n",
       "      <td>245.0</td>\n",
       "      <td>0.0</td>\n",
       "    </tr>\n",
       "    <tr>\n",
       "      <th>3</th>\n",
       "      <td>Marion</td>\n",
       "      <td>1977.0</td>\n",
       "      <td>229.0</td>\n",
       "      <td>229.0</td>\n",
       "      <td>0.0</td>\n",
       "    </tr>\n",
       "    <tr>\n",
       "      <th>4</th>\n",
       "      <td>Dusty</td>\n",
       "      <td>1979.0</td>\n",
       "      <td>194.0</td>\n",
       "      <td>194.0</td>\n",
       "      <td>0.0</td>\n",
       "    </tr>\n",
       "    <tr>\n",
       "      <th>...</th>\n",
       "      <td>...</td>\n",
       "      <td>...</td>\n",
       "      <td>...</td>\n",
       "      <td>...</td>\n",
       "      <td>...</td>\n",
       "    </tr>\n",
       "    <tr>\n",
       "      <th>195</th>\n",
       "      <td>Anmol</td>\n",
       "      <td>2005.0</td>\n",
       "      <td>18.0</td>\n",
       "      <td>18.0</td>\n",
       "      <td>0.0</td>\n",
       "    </tr>\n",
       "    <tr>\n",
       "      <th>196</th>\n",
       "      <td>Cypress</td>\n",
       "      <td>2006.0</td>\n",
       "      <td>18.0</td>\n",
       "      <td>18.0</td>\n",
       "      <td>0.0</td>\n",
       "    </tr>\n",
       "    <tr>\n",
       "      <th>197</th>\n",
       "      <td>Jazz</td>\n",
       "      <td>2004.0</td>\n",
       "      <td>18.0</td>\n",
       "      <td>18.0</td>\n",
       "      <td>0.0</td>\n",
       "    </tr>\n",
       "    <tr>\n",
       "      <th>198</th>\n",
       "      <td>Jalani</td>\n",
       "      <td>2008.0</td>\n",
       "      <td>18.0</td>\n",
       "      <td>18.0</td>\n",
       "      <td>0.0</td>\n",
       "    </tr>\n",
       "    <tr>\n",
       "      <th>199</th>\n",
       "      <td>Lindy</td>\n",
       "      <td>1941.0</td>\n",
       "      <td>17.0</td>\n",
       "      <td>17.0</td>\n",
       "      <td>0.0</td>\n",
       "    </tr>\n",
       "  </tbody>\n",
       "</table>\n",
       "<p>200 rows × 5 columns</p>\n",
       "</div>"
      ],
      "text/plain": [
       "        Name    Year   Male  Female  DIFF\n",
       "0    Justice  2003.0  665.0   665.0   0.0\n",
       "1     Jaylin  2008.0  524.0   524.0   0.0\n",
       "2       Baby  2003.0  245.0   245.0   0.0\n",
       "3     Marion  1977.0  229.0   229.0   0.0\n",
       "4      Dusty  1979.0  194.0   194.0   0.0\n",
       "..       ...     ...    ...     ...   ...\n",
       "195    Anmol  2005.0   18.0    18.0   0.0\n",
       "196  Cypress  2006.0   18.0    18.0   0.0\n",
       "197     Jazz  2004.0   18.0    18.0   0.0\n",
       "198   Jalani  2008.0   18.0    18.0   0.0\n",
       "199    Lindy  1941.0   17.0    17.0   0.0\n",
       "\n",
       "[200 rows x 5 columns]"
      ]
     },
     "execution_count": 56,
     "metadata": {},
     "output_type": "execute_result"
    }
   ],
   "source": [
    "df = pd.read_sql(\"\"\"\n",
    "SELECT MaleData.Name,\n",
    "       MaleData.Year,\n",
    "       MaleData.NameCount AS Male,\n",
    "       FemaleData.NameCount AS Female,\n",
    "       ABS( MaleData.NameCount - FemaleData.NameCount) AS DIFF\n",
    "FROM   all_data AS MaleData,\n",
    "       all_data AS FemaleData\n",
    "WHERE  MaleData.Gender = 'M'\n",
    "AND    FemaleData.Gender = 'F'\n",
    "AND    MaleData.Name = FemaleData.Name\n",
    "AND    MaleData.Year = FemaleData.Year\n",
    "ORDER BY DIFF ASC, Male DESC\n",
    "\"\"\", connection)\n",
    "df.head(200)\n"
   ]
  },
  {
   "cell_type": "markdown",
   "id": "14b630cf-6916-4bde-b88a-33f02ea5dc1f",
   "metadata": {},
   "source": [
    "#### get info about datatypes"
   ]
  },
  {
   "cell_type": "code",
   "execution_count": 57,
   "id": "cb2f7bc4-ea1d-4e48-bf71-9b2898ee5e7a",
   "metadata": {},
   "outputs": [
    {
     "name": "stdout",
     "output_type": "stream",
     "text": [
      "<class 'pandas.core.frame.DataFrame'>\n",
      "RangeIndex: 150447 entries, 0 to 150446\n",
      "Data columns (total 5 columns):\n",
      " #   Column  Non-Null Count   Dtype  \n",
      "---  ------  --------------   -----  \n",
      " 0   Name    150447 non-null  object \n",
      " 1   Year    150447 non-null  float64\n",
      " 2   Male    150447 non-null  float64\n",
      " 3   Female  150447 non-null  float64\n",
      " 4   DIFF    150447 non-null  float64\n",
      "dtypes: float64(4), object(1)\n",
      "memory usage: 5.7+ MB\n"
     ]
    }
   ],
   "source": [
    "df.info()"
   ]
  },
  {
   "cell_type": "markdown",
   "id": "d37b44e1-6c32-406d-8f0e-971541bfc8de",
   "metadata": {},
   "source": [
    "#### SQL querry for 'Baby'"
   ]
  },
  {
   "cell_type": "code",
   "execution_count": 58,
   "id": "6012356a-fdcf-4b3c-97fd-3c56a6c3f684",
   "metadata": {},
   "outputs": [
    {
     "data": {
      "text/html": [
       "<div>\n",
       "<style scoped>\n",
       "    .dataframe tbody tr th:only-of-type {\n",
       "        vertical-align: middle;\n",
       "    }\n",
       "\n",
       "    .dataframe tbody tr th {\n",
       "        vertical-align: top;\n",
       "    }\n",
       "\n",
       "    .dataframe thead th {\n",
       "        text-align: right;\n",
       "    }\n",
       "</style>\n",
       "<table border=\"1\" class=\"dataframe\">\n",
       "  <thead>\n",
       "    <tr style=\"text-align: right;\">\n",
       "      <th></th>\n",
       "      <th>Name</th>\n",
       "      <th>Gender</th>\n",
       "      <th>Year</th>\n",
       "      <th>NameCount</th>\n",
       "    </tr>\n",
       "  </thead>\n",
       "  <tbody>\n",
       "    <tr>\n",
       "      <th>0</th>\n",
       "      <td>Baby</td>\n",
       "      <td>F</td>\n",
       "      <td>1915.0</td>\n",
       "      <td>7.0</td>\n",
       "    </tr>\n",
       "    <tr>\n",
       "      <th>1</th>\n",
       "      <td>Baby</td>\n",
       "      <td>F</td>\n",
       "      <td>1916.0</td>\n",
       "      <td>10.0</td>\n",
       "    </tr>\n",
       "    <tr>\n",
       "      <th>2</th>\n",
       "      <td>Baby</td>\n",
       "      <td>F</td>\n",
       "      <td>1917.0</td>\n",
       "      <td>10.0</td>\n",
       "    </tr>\n",
       "    <tr>\n",
       "      <th>3</th>\n",
       "      <td>Baby</td>\n",
       "      <td>F</td>\n",
       "      <td>1918.0</td>\n",
       "      <td>8.0</td>\n",
       "    </tr>\n",
       "    <tr>\n",
       "      <th>4</th>\n",
       "      <td>Baby</td>\n",
       "      <td>F</td>\n",
       "      <td>1919.0</td>\n",
       "      <td>11.0</td>\n",
       "    </tr>\n",
       "  </tbody>\n",
       "</table>\n",
       "</div>"
      ],
      "text/plain": [
       "   Name Gender    Year  NameCount\n",
       "0  Baby      F  1915.0        7.0\n",
       "1  Baby      F  1916.0       10.0\n",
       "2  Baby      F  1917.0       10.0\n",
       "3  Baby      F  1918.0        8.0\n",
       "4  Baby      F  1919.0       11.0"
      ]
     },
     "execution_count": 58,
     "metadata": {},
     "output_type": "execute_result"
    }
   ],
   "source": [
    "name1 = nameQuery('Baby')\n",
    "name1.head()"
   ]
  },
  {
   "cell_type": "markdown",
   "id": "7daa4c79-bfbc-495b-8662-9a637d925ea9",
   "metadata": {},
   "source": [
    "#### plot for 'Baby'"
   ]
  },
  {
   "cell_type": "code",
   "execution_count": 59,
   "id": "ddee4964-23ac-4798-b3f6-1c1cfd69057d",
   "metadata": {},
   "outputs": [
    {
     "data": {
      "text/plain": [
       "<seaborn.axisgrid.FacetGrid at 0x7f3e47ee3520>"
      ]
     },
     "execution_count": 59,
     "metadata": {},
     "output_type": "execute_result"
    },
    {
     "data": {
      "image/png": "[encoded data removed]",
      "text/plain": [
       "<Figure size 404.875x360 with 1 Axes>"
      ]
     },
     "metadata": {
      "needs_background": "light"
     },
     "output_type": "display_data"
    }
   ],
   "source": [
    "sns.relplot(data=name1, kind='line', x='Year', y='NameCount', hue='Gender')"
   ]
  },
  {
   "cell_type": "markdown",
   "id": "8adb21b3-8c4b-4eee-951b-f76c8f1d1285",
   "metadata": {},
   "source": [
    "#### querry for gender year totals"
   ]
  },
  {
   "cell_type": "code",
   "execution_count": 60,
   "id": "5e7b8080-cd21-454f-b74f-5241c444aa44",
   "metadata": {},
   "outputs": [
    {
     "data": {
      "text/html": [
       "<div>\n",
       "<style scoped>\n",
       "    .dataframe tbody tr th:only-of-type {\n",
       "        vertical-align: middle;\n",
       "    }\n",
       "\n",
       "    .dataframe tbody tr th {\n",
       "        vertical-align: top;\n",
       "    }\n",
       "\n",
       "    .dataframe thead th {\n",
       "        text-align: right;\n",
       "    }\n",
       "</style>\n",
       "<table border=\"1\" class=\"dataframe\">\n",
       "  <thead>\n",
       "    <tr style=\"text-align: right;\">\n",
       "      <th></th>\n",
       "      <th>YearGenderTotalID</th>\n",
       "      <th>Year</th>\n",
       "      <th>Gender</th>\n",
       "      <th>Total</th>\n",
       "    </tr>\n",
       "  </thead>\n",
       "  <tbody>\n",
       "    <tr>\n",
       "      <th>0</th>\n",
       "      <td>1.0</td>\n",
       "      <td>1915.0</td>\n",
       "      <td>F</td>\n",
       "      <td>983874.0</td>\n",
       "    </tr>\n",
       "    <tr>\n",
       "      <th>1</th>\n",
       "      <td>2.0</td>\n",
       "      <td>1915.0</td>\n",
       "      <td>M</td>\n",
       "      <td>848603.0</td>\n",
       "    </tr>\n",
       "    <tr>\n",
       "      <th>2</th>\n",
       "      <td>3.0</td>\n",
       "      <td>1916.0</td>\n",
       "      <td>F</td>\n",
       "      <td>1044323.0</td>\n",
       "    </tr>\n",
       "    <tr>\n",
       "      <th>3</th>\n",
       "      <td>4.0</td>\n",
       "      <td>1916.0</td>\n",
       "      <td>M</td>\n",
       "      <td>890099.0</td>\n",
       "    </tr>\n",
       "    <tr>\n",
       "      <th>4</th>\n",
       "      <td>5.0</td>\n",
       "      <td>1917.0</td>\n",
       "      <td>F</td>\n",
       "      <td>1081280.0</td>\n",
       "    </tr>\n",
       "  </tbody>\n",
       "</table>\n",
       "</div>"
      ],
      "text/plain": [
       "   YearGenderTotalID    Year Gender      Total\n",
       "0                1.0  1915.0      F   983874.0\n",
       "1                2.0  1915.0      M   848603.0\n",
       "2                3.0  1916.0      F  1044323.0\n",
       "3                4.0  1916.0      M   890099.0\n",
       "4                5.0  1917.0      F  1081280.0"
      ]
     },
     "execution_count": 60,
     "metadata": {},
     "output_type": "execute_result"
    }
   ],
   "source": [
    "babies_registered = pd.read_sql_query(\"\"\"\n",
    "SELECT *\n",
    "FROM year_gender_totals;\n",
    "\"\"\", connection)\n",
    "babies_registered.head()"
   ]
  },
  {
   "cell_type": "markdown",
   "id": "84209e96-06ce-4815-b0b2-e90be1942479",
   "metadata": {},
   "source": [
    "#### set index for tables to join"
   ]
  },
  {
   "cell_type": "code",
   "execution_count": 61,
   "id": "2ad390e9-9ffa-4859-a52a-6ebe16862b55",
   "metadata": {},
   "outputs": [
    {
     "name": "stdout",
     "output_type": "stream",
     "text": [
      "               Name  NameCount\n",
      "Year   Gender                 \n",
      "1915.0 F       Baby        7.0\n",
      "1916.0 F       Baby       10.0\n",
      "1917.0 F       Baby       10.0\n",
      "1918.0 F       Baby        8.0\n",
      "1919.0 F       Baby       11.0\n",
      "               YearGenderTotalID      Total\n",
      "Year   Gender                              \n",
      "1915.0 F                     1.0   983874.0\n",
      "       M                     2.0   848603.0\n",
      "1916.0 F                     3.0  1044323.0\n",
      "       M                     4.0   890099.0\n",
      "1917.0 F                     5.0  1081280.0\n"
     ]
    }
   ],
   "source": [
    "name1.set_index([\"Year\", \"Gender\"], inplace=True)\n",
    "print(name1.head())\n",
    "babies_registered.set_index([\"Year\", \"Gender\"], inplace=True)\n",
    "print(babies_registered.head())"
   ]
  },
  {
   "cell_type": "markdown",
   "id": "c175dda9-8b90-446b-b570-052b5fdd6365",
   "metadata": {},
   "source": [
    "#### join data"
   ]
  },
  {
   "cell_type": "code",
   "execution_count": 62,
   "id": "94019eb8-ab25-45c7-8143-6739987482f1",
   "metadata": {},
   "outputs": [
    {
     "data": {
      "text/html": [
       "<div>\n",
       "<style scoped>\n",
       "    .dataframe tbody tr th:only-of-type {\n",
       "        vertical-align: middle;\n",
       "    }\n",
       "\n",
       "    .dataframe tbody tr th {\n",
       "        vertical-align: top;\n",
       "    }\n",
       "\n",
       "    .dataframe thead th {\n",
       "        text-align: right;\n",
       "    }\n",
       "</style>\n",
       "<table border=\"1\" class=\"dataframe\">\n",
       "  <thead>\n",
       "    <tr style=\"text-align: right;\">\n",
       "      <th></th>\n",
       "      <th></th>\n",
       "      <th>Name</th>\n",
       "      <th>NameCount</th>\n",
       "      <th>YearGenderTotalID</th>\n",
       "      <th>Total</th>\n",
       "      <th>Percent</th>\n",
       "    </tr>\n",
       "    <tr>\n",
       "      <th>Year</th>\n",
       "      <th>Gender</th>\n",
       "      <th></th>\n",
       "      <th></th>\n",
       "      <th></th>\n",
       "      <th></th>\n",
       "      <th></th>\n",
       "    </tr>\n",
       "  </thead>\n",
       "  <tbody>\n",
       "    <tr>\n",
       "      <th>1915.0</th>\n",
       "      <th>F</th>\n",
       "      <td>Baby</td>\n",
       "      <td>7.0</td>\n",
       "      <td>1.0</td>\n",
       "      <td>983874.0</td>\n",
       "      <td>0.000711</td>\n",
       "    </tr>\n",
       "    <tr>\n",
       "      <th>1916.0</th>\n",
       "      <th>F</th>\n",
       "      <td>Baby</td>\n",
       "      <td>10.0</td>\n",
       "      <td>3.0</td>\n",
       "      <td>1044323.0</td>\n",
       "      <td>0.000958</td>\n",
       "    </tr>\n",
       "    <tr>\n",
       "      <th>1917.0</th>\n",
       "      <th>F</th>\n",
       "      <td>Baby</td>\n",
       "      <td>10.0</td>\n",
       "      <td>5.0</td>\n",
       "      <td>1081280.0</td>\n",
       "      <td>0.000925</td>\n",
       "    </tr>\n",
       "    <tr>\n",
       "      <th>1918.0</th>\n",
       "      <th>F</th>\n",
       "      <td>Baby</td>\n",
       "      <td>8.0</td>\n",
       "      <td>7.0</td>\n",
       "      <td>1157647.0</td>\n",
       "      <td>0.000691</td>\n",
       "    </tr>\n",
       "    <tr>\n",
       "      <th>1919.0</th>\n",
       "      <th>F</th>\n",
       "      <td>Baby</td>\n",
       "      <td>11.0</td>\n",
       "      <td>9.0</td>\n",
       "      <td>1130145.0</td>\n",
       "      <td>0.000973</td>\n",
       "    </tr>\n",
       "    <tr>\n",
       "      <th>...</th>\n",
       "      <th>...</th>\n",
       "      <td>...</td>\n",
       "      <td>...</td>\n",
       "      <td>...</td>\n",
       "      <td>...</td>\n",
       "      <td>...</td>\n",
       "    </tr>\n",
       "    <tr>\n",
       "      <th>2012.0</th>\n",
       "      <th>M</th>\n",
       "      <td>Baby</td>\n",
       "      <td>19.0</td>\n",
       "      <td>196.0</td>\n",
       "      <td>1889414.0</td>\n",
       "      <td>0.001006</td>\n",
       "    </tr>\n",
       "    <tr>\n",
       "      <th rowspan=\"2\" valign=\"top\">2013.0</th>\n",
       "      <th>F</th>\n",
       "      <td>Baby</td>\n",
       "      <td>17.0</td>\n",
       "      <td>197.0</td>\n",
       "      <td>1745339.0</td>\n",
       "      <td>0.000974</td>\n",
       "    </tr>\n",
       "    <tr>\n",
       "      <th>M</th>\n",
       "      <td>Baby</td>\n",
       "      <td>15.0</td>\n",
       "      <td>198.0</td>\n",
       "      <td>1881463.0</td>\n",
       "      <td>0.000797</td>\n",
       "    </tr>\n",
       "    <tr>\n",
       "      <th rowspan=\"2\" valign=\"top\">2014.0</th>\n",
       "      <th>F</th>\n",
       "      <td>Baby</td>\n",
       "      <td>10.0</td>\n",
       "      <td>199.0</td>\n",
       "      <td>1768775.0</td>\n",
       "      <td>0.000565</td>\n",
       "    </tr>\n",
       "    <tr>\n",
       "      <th>M</th>\n",
       "      <td>Baby</td>\n",
       "      <td>5.0</td>\n",
       "      <td>200.0</td>\n",
       "      <td>1901376.0</td>\n",
       "      <td>0.000263</td>\n",
       "    </tr>\n",
       "  </tbody>\n",
       "</table>\n",
       "<p>162 rows × 5 columns</p>\n",
       "</div>"
      ],
      "text/plain": [
       "               Name  NameCount  YearGenderTotalID      Total   Percent\n",
       "Year   Gender                                                         \n",
       "1915.0 F       Baby        7.0                1.0   983874.0  0.000711\n",
       "1916.0 F       Baby       10.0                3.0  1044323.0  0.000958\n",
       "1917.0 F       Baby       10.0                5.0  1081280.0  0.000925\n",
       "1918.0 F       Baby        8.0                7.0  1157647.0  0.000691\n",
       "1919.0 F       Baby       11.0                9.0  1130145.0  0.000973\n",
       "...             ...        ...                ...        ...       ...\n",
       "2012.0 M       Baby       19.0              196.0  1889414.0  0.001006\n",
       "2013.0 F       Baby       17.0              197.0  1745339.0  0.000974\n",
       "       M       Baby       15.0              198.0  1881463.0  0.000797\n",
       "2014.0 F       Baby       10.0              199.0  1768775.0  0.000565\n",
       "       M       Baby        5.0              200.0  1901376.0  0.000263\n",
       "\n",
       "[162 rows x 5 columns]"
      ]
     },
     "execution_count": 62,
     "metadata": {},
     "output_type": "execute_result"
    }
   ],
   "source": [
    "name1 = name1.join(babies_registered)\n",
    "name1[\"Percent\"] = 100.0 * name1['NameCount'] / name1['Total']\n",
    "name1"
   ]
  },
  {
   "cell_type": "markdown",
   "id": "40e94e0e-9503-4df3-b48d-7653f591b90b",
   "metadata": {},
   "source": [
    "### Line plot of babies named \"Baby\""
   ]
  },
  {
   "cell_type": "code",
   "execution_count": 63,
   "id": "d542eff1-8f1f-44ef-baac-7ea795407757",
   "metadata": {},
   "outputs": [
    {
     "data": {
      "image/png": "[encoded data removed]",
      "text/plain": [
       "<Figure size 404.875x360 with 1 Axes>"
      ]
     },
     "metadata": {
      "needs_background": "light"
     },
     "output_type": "display_data"
    }
   ],
   "source": [
    "baby = sns.relplot(data=name1, kind='line', x='Year', y='NameCount', hue='Gender')"
   ]
  },
  {
   "cell_type": "markdown",
   "id": "4f1d5463-089b-455e-84e2-cfec84a5e3be",
   "metadata": {},
   "source": [
    "#### saving file as svg"
   ]
  },
  {
   "cell_type": "code",
   "execution_count": 64,
   "id": "681b6738-c8ea-4d76-a065-83d7bbd529bc",
   "metadata": {},
   "outputs": [],
   "source": [
    "baby.savefig('baby.svg')"
   ]
  }
 ],
 "metadata": {
  "kernelspec": {
   "display_name": "Python 3 (ipykernel)",
   "language": "python",
   "name": "python3"
  },
  "language_info": {
   "codemirror_mode": {
    "name": "ipython",
    "version": 3
   },
   "file_extension": ".py",
   "mimetype": "text/x-python",
   "name": "python",
   "nbconvert_exporter": "python",
   "pygments_lexer": "ipython3",
   "version": "3.9.7"
  }
 },
 "nbformat": 4,
 "nbformat_minor": 5
}
